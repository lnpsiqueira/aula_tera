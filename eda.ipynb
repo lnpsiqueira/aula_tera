{
 "cells": [
  {
   "cell_type": "markdown",
   "metadata": {},
   "source": [
    "## Simple EDA"
   ]
  },
  {
   "cell_type": "markdown",
   "metadata": {},
   "source": [
    "### Setup and import libs"
   ]
  },
  {
   "cell_type": "code",
   "execution_count": 1,
   "metadata": {},
   "outputs": [],
   "source": [
    "import warnings\n",
    "warnings.filterwarnings('ignore')"
   ]
  },
  {
   "cell_type": "code",
   "execution_count": 2,
   "metadata": {},
   "outputs": [],
   "source": [
    "import math\n",
    "\n",
    "import pandas as pd\n",
    "import sqlalchemy\n",
    "import category_encoders as ce\n",
    "import matplotlib.pyplot as plt\n",
    "import numpy as np\n",
    "import seaborn as sns\n",
    "\n",
    "from sklearn.metrics import mean_squared_error, r2_score\n",
    "from sklearn.impute import SimpleImputer\n",
    "from sklearn.metrics import classification_report\n",
    "from sklearn.model_selection import train_test_split\n",
    "from sklearn.metrics import (precision_recall_curve,\n",
    "                             PrecisionRecallDisplay)\n",
    "\n",
    "from train import get_model_pipeline"
   ]
  },
  {
   "cell_type": "markdown",
   "metadata": {},
   "source": [
    "### Load data"
   ]
  },
  {
   "cell_type": "code",
   "execution_count": 3,
   "metadata": {},
   "outputs": [
    {
     "data": {
      "text/plain": [
       "0    606\n",
       "1     76\n",
       "Name: bad_payer, dtype: int64"
      ]
     },
     "execution_count": 3,
     "metadata": {},
     "output_type": "execute_result"
    }
   ],
   "source": [
    "df = pd.read_csv('data/dataset.csv')\n",
    "df.bad_payer.value_counts()"
   ]
  },
  {
   "cell_type": "code",
   "execution_count": 4,
   "metadata": {},
   "outputs": [
    {
     "name": "stdout",
     "output_type": "stream",
     "text": [
      "Default reatio: 0.11143695014662756\n"
     ]
    }
   ],
   "source": [
    "default_ratio = df.bad_payer.value_counts()[1]/len(df)\n",
    "print('Default reatio:', default_ratio)"
   ]
  },
  {
   "cell_type": "code",
   "execution_count": 5,
   "metadata": {},
   "outputs": [
    {
     "data": {
      "text/html": [
       "<div>\n",
       "<style scoped>\n",
       "    .dataframe tbody tr th:only-of-type {\n",
       "        vertical-align: middle;\n",
       "    }\n",
       "\n",
       "    .dataframe tbody tr th {\n",
       "        vertical-align: top;\n",
       "    }\n",
       "\n",
       "    .dataframe thead th {\n",
       "        text-align: right;\n",
       "    }\n",
       "</style>\n",
       "<table border=\"1\" class=\"dataframe\">\n",
       "  <thead>\n",
       "    <tr style=\"text-align: right;\">\n",
       "      <th></th>\n",
       "      <th>loan_id</th>\n",
       "      <th>loan_date</th>\n",
       "      <th>acc_date</th>\n",
       "      <th>loan_amount</th>\n",
       "      <th>loan_duration</th>\n",
       "      <th>acc_age</th>\n",
       "      <th>client_age</th>\n",
       "      <th>client_gender</th>\n",
       "      <th>district_name</th>\n",
       "      <th>district_region</th>\n",
       "      <th>district_inhabitants</th>\n",
       "      <th>district_avg_salary</th>\n",
       "      <th>bad_payer</th>\n",
       "    </tr>\n",
       "  </thead>\n",
       "  <tbody>\n",
       "    <tr>\n",
       "      <th>0</th>\n",
       "      <td>4959</td>\n",
       "      <td>1994-01-05</td>\n",
       "      <td>1993-02-26</td>\n",
       "      <td>80952</td>\n",
       "      <td>24</td>\n",
       "      <td>28</td>\n",
       "      <td>76</td>\n",
       "      <td>M</td>\n",
       "      <td>Hl.m. Praha</td>\n",
       "      <td>Prague</td>\n",
       "      <td>1204953</td>\n",
       "      <td>12541</td>\n",
       "      <td>0</td>\n",
       "    </tr>\n",
       "    <tr>\n",
       "      <th>1</th>\n",
       "      <td>4961</td>\n",
       "      <td>1996-04-29</td>\n",
       "      <td>1995-04-07</td>\n",
       "      <td>30276</td>\n",
       "      <td>12</td>\n",
       "      <td>25</td>\n",
       "      <td>81</td>\n",
       "      <td>F</td>\n",
       "      <td>Tabor</td>\n",
       "      <td>south Bohemia</td>\n",
       "      <td>103347</td>\n",
       "      <td>9104</td>\n",
       "      <td>1</td>\n",
       "    </tr>\n",
       "    <tr>\n",
       "      <th>2</th>\n",
       "      <td>4962</td>\n",
       "      <td>1997-12-08</td>\n",
       "      <td>1996-07-28</td>\n",
       "      <td>30276</td>\n",
       "      <td>12</td>\n",
       "      <td>24</td>\n",
       "      <td>59</td>\n",
       "      <td>M</td>\n",
       "      <td>Frydek - Mistek</td>\n",
       "      <td>north Moravia</td>\n",
       "      <td>228848</td>\n",
       "      <td>9893</td>\n",
       "      <td>0</td>\n",
       "    </tr>\n",
       "    <tr>\n",
       "      <th>3</th>\n",
       "      <td>4967</td>\n",
       "      <td>1998-10-14</td>\n",
       "      <td>1997-08-18</td>\n",
       "      <td>318480</td>\n",
       "      <td>60</td>\n",
       "      <td>23</td>\n",
       "      <td>68</td>\n",
       "      <td>M</td>\n",
       "      <td>Strakonice</td>\n",
       "      <td>south Bohemia</td>\n",
       "      <td>70646</td>\n",
       "      <td>8547</td>\n",
       "      <td>1</td>\n",
       "    </tr>\n",
       "    <tr>\n",
       "      <th>4</th>\n",
       "      <td>4968</td>\n",
       "      <td>1998-04-19</td>\n",
       "      <td>1997-08-08</td>\n",
       "      <td>110736</td>\n",
       "      <td>48</td>\n",
       "      <td>23</td>\n",
       "      <td>81</td>\n",
       "      <td>F</td>\n",
       "      <td>Prachatice</td>\n",
       "      <td>south Bohemia</td>\n",
       "      <td>51428</td>\n",
       "      <td>8402</td>\n",
       "      <td>0</td>\n",
       "    </tr>\n",
       "  </tbody>\n",
       "</table>\n",
       "</div>"
      ],
      "text/plain": [
       "   loan_id   loan_date    acc_date  loan_amount  loan_duration  acc_age  \\\n",
       "0     4959  1994-01-05  1993-02-26        80952             24       28   \n",
       "1     4961  1996-04-29  1995-04-07        30276             12       25   \n",
       "2     4962  1997-12-08  1996-07-28        30276             12       24   \n",
       "3     4967  1998-10-14  1997-08-18       318480             60       23   \n",
       "4     4968  1998-04-19  1997-08-08       110736             48       23   \n",
       "\n",
       "   client_age client_gender    district_name district_region  \\\n",
       "0          76             M      Hl.m. Praha          Prague   \n",
       "1          81             F            Tabor   south Bohemia   \n",
       "2          59             M  Frydek - Mistek   north Moravia   \n",
       "3          68             M       Strakonice   south Bohemia   \n",
       "4          81             F       Prachatice   south Bohemia   \n",
       "\n",
       "   district_inhabitants  district_avg_salary  bad_payer  \n",
       "0               1204953                12541          0  \n",
       "1                103347                 9104          1  \n",
       "2                228848                 9893          0  \n",
       "3                 70646                 8547          1  \n",
       "4                 51428                 8402          0  "
      ]
     },
     "execution_count": 5,
     "metadata": {},
     "output_type": "execute_result"
    }
   ],
   "source": [
    "df.head()"
   ]
  },
  {
   "cell_type": "code",
   "execution_count": 6,
   "metadata": {},
   "outputs": [
    {
     "data": {
      "text/plain": [
       "loan_id                  int64\n",
       "loan_date               object\n",
       "acc_date                object\n",
       "loan_amount              int64\n",
       "loan_duration            int64\n",
       "acc_age                  int64\n",
       "client_age               int64\n",
       "client_gender           object\n",
       "district_name           object\n",
       "district_region         object\n",
       "district_inhabitants     int64\n",
       "district_avg_salary      int64\n",
       "bad_payer                int64\n",
       "dtype: object"
      ]
     },
     "execution_count": 6,
     "metadata": {},
     "output_type": "execute_result"
    }
   ],
   "source": [
    "df.dtypes"
   ]
  },
  {
   "cell_type": "code",
   "execution_count": 7,
   "metadata": {},
   "outputs": [
    {
     "data": {
      "text/html": [
       "<div>\n",
       "<style scoped>\n",
       "    .dataframe tbody tr th:only-of-type {\n",
       "        vertical-align: middle;\n",
       "    }\n",
       "\n",
       "    .dataframe tbody tr th {\n",
       "        vertical-align: top;\n",
       "    }\n",
       "\n",
       "    .dataframe thead th {\n",
       "        text-align: right;\n",
       "    }\n",
       "</style>\n",
       "<table border=\"1\" class=\"dataframe\">\n",
       "  <thead>\n",
       "    <tr style=\"text-align: right;\">\n",
       "      <th></th>\n",
       "      <th>loan_date</th>\n",
       "      <th>acc_date</th>\n",
       "      <th>client_gender</th>\n",
       "      <th>district_name</th>\n",
       "      <th>district_region</th>\n",
       "    </tr>\n",
       "  </thead>\n",
       "  <tbody>\n",
       "    <tr>\n",
       "      <th>count</th>\n",
       "      <td>682</td>\n",
       "      <td>682</td>\n",
       "      <td>682</td>\n",
       "      <td>682</td>\n",
       "      <td>682</td>\n",
       "    </tr>\n",
       "    <tr>\n",
       "      <th>unique</th>\n",
       "      <td>559</td>\n",
       "      <td>557</td>\n",
       "      <td>2</td>\n",
       "      <td>77</td>\n",
       "      <td>8</td>\n",
       "    </tr>\n",
       "    <tr>\n",
       "      <th>top</th>\n",
       "      <td>1998-07-12</td>\n",
       "      <td>1993-11-26</td>\n",
       "      <td>F</td>\n",
       "      <td>Hl.m. Praha</td>\n",
       "      <td>south Moravia</td>\n",
       "    </tr>\n",
       "    <tr>\n",
       "      <th>freq</th>\n",
       "      <td>4</td>\n",
       "      <td>4</td>\n",
       "      <td>348</td>\n",
       "      <td>84</td>\n",
       "      <td>129</td>\n",
       "    </tr>\n",
       "  </tbody>\n",
       "</table>\n",
       "</div>"
      ],
      "text/plain": [
       "         loan_date    acc_date client_gender district_name district_region\n",
       "count          682         682           682           682             682\n",
       "unique         559         557             2            77               8\n",
       "top     1998-07-12  1993-11-26             F   Hl.m. Praha   south Moravia\n",
       "freq             4           4           348            84             129"
      ]
     },
     "execution_count": 7,
     "metadata": {},
     "output_type": "execute_result"
    }
   ],
   "source": [
    "df.describe(include = 'object')"
   ]
  },
  {
   "cell_type": "code",
   "execution_count": 8,
   "metadata": {},
   "outputs": [
    {
     "data": {
      "text/html": [
       "<div>\n",
       "<style scoped>\n",
       "    .dataframe tbody tr th:only-of-type {\n",
       "        vertical-align: middle;\n",
       "    }\n",
       "\n",
       "    .dataframe tbody tr th {\n",
       "        vertical-align: top;\n",
       "    }\n",
       "\n",
       "    .dataframe thead th {\n",
       "        text-align: right;\n",
       "    }\n",
       "</style>\n",
       "<table border=\"1\" class=\"dataframe\">\n",
       "  <thead>\n",
       "    <tr style=\"text-align: right;\">\n",
       "      <th></th>\n",
       "      <th>loan_id</th>\n",
       "      <th>loan_amount</th>\n",
       "      <th>loan_duration</th>\n",
       "      <th>acc_age</th>\n",
       "      <th>client_age</th>\n",
       "      <th>district_inhabitants</th>\n",
       "      <th>district_avg_salary</th>\n",
       "      <th>bad_payer</th>\n",
       "    </tr>\n",
       "  </thead>\n",
       "  <tbody>\n",
       "    <tr>\n",
       "      <th>count</th>\n",
       "      <td>682.000000</td>\n",
       "      <td>682.000000</td>\n",
       "      <td>682.000000</td>\n",
       "      <td>682.000000</td>\n",
       "      <td>682.000000</td>\n",
       "      <td>6.820000e+02</td>\n",
       "      <td>682.000000</td>\n",
       "      <td>682.000000</td>\n",
       "    </tr>\n",
       "    <tr>\n",
       "      <th>mean</th>\n",
       "      <td>6172.466276</td>\n",
       "      <td>151410.175953</td>\n",
       "      <td>36.492669</td>\n",
       "      <td>25.038123</td>\n",
       "      <td>62.126100</td>\n",
       "      <td>2.720522e+05</td>\n",
       "      <td>9502.986804</td>\n",
       "      <td>0.111437</td>\n",
       "    </tr>\n",
       "    <tr>\n",
       "      <th>std</th>\n",
       "      <td>682.579279</td>\n",
       "      <td>113372.406310</td>\n",
       "      <td>17.075219</td>\n",
       "      <td>1.449598</td>\n",
       "      <td>12.664956</td>\n",
       "      <td>3.583320e+05</td>\n",
       "      <td>1323.150982</td>\n",
       "      <td>0.314903</td>\n",
       "    </tr>\n",
       "    <tr>\n",
       "      <th>min</th>\n",
       "      <td>4959.000000</td>\n",
       "      <td>4980.000000</td>\n",
       "      <td>12.000000</td>\n",
       "      <td>23.000000</td>\n",
       "      <td>40.000000</td>\n",
       "      <td>4.282100e+04</td>\n",
       "      <td>8110.000000</td>\n",
       "      <td>0.000000</td>\n",
       "    </tr>\n",
       "    <tr>\n",
       "      <th>25%</th>\n",
       "      <td>5577.500000</td>\n",
       "      <td>66732.000000</td>\n",
       "      <td>24.000000</td>\n",
       "      <td>24.000000</td>\n",
       "      <td>52.000000</td>\n",
       "      <td>9.208400e+04</td>\n",
       "      <td>8544.000000</td>\n",
       "      <td>0.000000</td>\n",
       "    </tr>\n",
       "    <tr>\n",
       "      <th>50%</th>\n",
       "      <td>6176.500000</td>\n",
       "      <td>116928.000000</td>\n",
       "      <td>36.000000</td>\n",
       "      <td>25.000000</td>\n",
       "      <td>62.000000</td>\n",
       "      <td>1.246050e+05</td>\n",
       "      <td>8991.000000</td>\n",
       "      <td>0.000000</td>\n",
       "    </tr>\n",
       "    <tr>\n",
       "      <th>75%</th>\n",
       "      <td>6752.500000</td>\n",
       "      <td>210654.000000</td>\n",
       "      <td>48.000000</td>\n",
       "      <td>26.000000</td>\n",
       "      <td>73.000000</td>\n",
       "      <td>2.261220e+05</td>\n",
       "      <td>9897.000000</td>\n",
       "      <td>0.000000</td>\n",
       "    </tr>\n",
       "    <tr>\n",
       "      <th>max</th>\n",
       "      <td>7308.000000</td>\n",
       "      <td>590820.000000</td>\n",
       "      <td>60.000000</td>\n",
       "      <td>28.000000</td>\n",
       "      <td>86.000000</td>\n",
       "      <td>1.204953e+06</td>\n",
       "      <td>12541.000000</td>\n",
       "      <td>1.000000</td>\n",
       "    </tr>\n",
       "  </tbody>\n",
       "</table>\n",
       "</div>"
      ],
      "text/plain": [
       "           loan_id    loan_amount  loan_duration     acc_age  client_age  \\\n",
       "count   682.000000     682.000000     682.000000  682.000000  682.000000   \n",
       "mean   6172.466276  151410.175953      36.492669   25.038123   62.126100   \n",
       "std     682.579279  113372.406310      17.075219    1.449598   12.664956   \n",
       "min    4959.000000    4980.000000      12.000000   23.000000   40.000000   \n",
       "25%    5577.500000   66732.000000      24.000000   24.000000   52.000000   \n",
       "50%    6176.500000  116928.000000      36.000000   25.000000   62.000000   \n",
       "75%    6752.500000  210654.000000      48.000000   26.000000   73.000000   \n",
       "max    7308.000000  590820.000000      60.000000   28.000000   86.000000   \n",
       "\n",
       "       district_inhabitants  district_avg_salary   bad_payer  \n",
       "count          6.820000e+02           682.000000  682.000000  \n",
       "mean           2.720522e+05          9502.986804    0.111437  \n",
       "std            3.583320e+05          1323.150982    0.314903  \n",
       "min            4.282100e+04          8110.000000    0.000000  \n",
       "25%            9.208400e+04          8544.000000    0.000000  \n",
       "50%            1.246050e+05          8991.000000    0.000000  \n",
       "75%            2.261220e+05          9897.000000    0.000000  \n",
       "max            1.204953e+06         12541.000000    1.000000  "
      ]
     },
     "execution_count": 8,
     "metadata": {},
     "output_type": "execute_result"
    }
   ],
   "source": [
    "df.describe()"
   ]
  },
  {
   "cell_type": "code",
   "execution_count": 9,
   "metadata": {},
   "outputs": [
    {
     "data": {
      "text/plain": [
       "<AxesSubplot:>"
      ]
     },
     "execution_count": 9,
     "metadata": {},
     "output_type": "execute_result"
    },
    {
     "data": {
      "image/png": "[encoded data removed]",
      "text/plain": [
       "<Figure size 792x648 with 2 Axes>"
      ]
     },
     "metadata": {
      "needs_background": "light"
     },
     "output_type": "display_data"
    }
   ],
   "source": [
    "# Compute the correlation matrix\n",
    "corr = df.corr()\n",
    "\n",
    "# Generate a mask for the upper triangle\n",
    "mask = np.triu(np.ones_like(corr, dtype=np.bool))\n",
    "\n",
    "# Set up the matplotlib figure\n",
    "f, ax = plt.subplots(figsize=(11, 9))\n",
    "\n",
    "# Generate a custom diverging colormap\n",
    "cmap = sns.diverging_palette(220, 10, as_cmap=True)\n",
    "\n",
    "# Draw the heatmap with the mask and correct aspect ratio\n",
    "sns.heatmap(corr, mask=mask, cmap=cmap, vmax=.5, center=0,\n",
    "            square=True, linewidths=.5, cbar_kws={\"shrink\": .5})"
   ]
  },
  {
   "cell_type": "markdown",
   "metadata": {},
   "source": [
    "### Fit the model"
   ]
  },
  {
   "cell_type": "code",
   "execution_count": 11,
   "metadata": {},
   "outputs": [
    {
     "data": {
      "text/plain": [
       "Pipeline(steps=[('preprocessor',\n",
       "                 ColumnTransformer(transformers=[('categorical',\n",
       "                                                  Pipeline(steps=[('TargetEncoder',\n",
       "                                                                   WOEEncoder())]),\n",
       "                                                  ['district_name',\n",
       "                                                   'district_region']),\n",
       "                                                 ('numeric',\n",
       "                                                  Pipeline(steps=[('Imputer',\n",
       "                                                                   SimpleImputer()),\n",
       "                                                                  ('Scaler',\n",
       "                                                                   StandardScaler())]),\n",
       "                                                  ['loan_amount',\n",
       "                                                   'loan_duration', 'acc_age',\n",
       "                                                   'client_age',\n",
       "                                                   'district_avg_salary'])])),\n",
       "                ('classifier',\n",
       "                 RandomForestClassifier(class_weight={0: 1, 1: 2},\n",
       "                                        n_estimators=2000))])"
      ]
     },
     "execution_count": 11,
     "metadata": {},
     "output_type": "execute_result"
    }
   ],
   "source": [
    "CAT_COLS = [\"client_gender\", \"district_name\", \"district_region\"]\n",
    "NUM_COLS = [\"loan_amount\", \"loan_duration\", \"acc_age\", \"client_age\", \"district_avg_salary\"]\n",
    "TARGET = \"bad_payer\"\n",
    "\n",
    "X = df[CAT_COLS + NUM_COLS]\n",
    "y = df[TARGET]\n",
    "\n",
    "X_train, X_test, y_train, y_test = train_test_split(X,y,test_size=0.30, stratify=y, random_state=42)\n",
    "\n",
    "pipeline = get_model_pipeline()\n",
    "pipeline.fit(X_train, y_train)\n",
    "\n",
    "y_pred = pipeline.predict(X_test)\n",
    "pipeline"
   ]
  },
  {
   "cell_type": "markdown",
   "metadata": {},
   "source": [
    "### Checking model performance"
   ]
  },
  {
   "cell_type": "code",
   "execution_count": 12,
   "metadata": {},
   "outputs": [
    {
     "name": "stdout",
     "output_type": "stream",
     "text": [
      "model accuracy: 0.878\n"
     ]
    }
   ],
   "source": [
    "print(\"model accuracy: %.3f\" % pipeline.score(X_test, y_test))"
   ]
  },
  {
   "cell_type": "markdown",
   "metadata": {},
   "source": [
    "Plotting the precision recall curve"
   ]
  },
  {
   "cell_type": "code",
   "execution_count": 13,
   "metadata": {},
   "outputs": [
    {
     "data": {
      "text/plain": [
       "<matplotlib.lines.Line2D at 0x20d13475d60>"
      ]
     },
     "execution_count": 13,
     "metadata": {},
     "output_type": "execute_result"
    },
    {
     "data": {
      "image/png": "[encoded data removed]",
      "text/plain": [
       "<Figure size 432x288 with 1 Axes>"
      ]
     },
     "metadata": {
      "needs_background": "light"
     },
     "output_type": "display_data"
    }
   ],
   "source": [
    "precision, recall, _ = precision_recall_curve(y_test, y_pred)\n",
    "disp = PrecisionRecallDisplay(precision=precision, recall=recall)\n",
    "disp.plot()\n",
    "plt.axhline(y=default_ratio, color='r', linestyle=':')"
   ]
  },
  {
   "cell_type": "code",
   "execution_count": 12,
   "metadata": {},
   "outputs": [
    {
     "name": "stdout",
     "output_type": "stream",
     "text": [
      "              precision    recall  f1-score   support\n",
      "\n",
      "        good       0.89      0.98      0.93       182\n",
      "         bad       0.20      0.04      0.07        23\n",
      "\n",
      "    accuracy                           0.87       205\n",
      "   macro avg       0.55      0.51      0.50       205\n",
      "weighted avg       0.81      0.87      0.84       205\n",
      "\n"
     ]
    }
   ],
   "source": [
    "print(classification_report(y_test, y_pred, target_names=['good', 'bad']))"
   ]
  },
  {
   "cell_type": "markdown",
   "metadata": {},
   "source": [
    "Model prediction probability distribution"
   ]
  },
  {
   "cell_type": "code",
   "execution_count": 13,
   "metadata": {},
   "outputs": [
    {
     "data": {
      "text/plain": [
       "<AxesSubplot:ylabel='Density'>"
      ]
     },
     "execution_count": 13,
     "metadata": {},
     "output_type": "execute_result"
    },
    {
     "data": {
      "image/png": "[encoded data removed]",
      "text/plain": [
       "<Figure size 432x288 with 1 Axes>"
      ]
     },
     "metadata": {
      "needs_background": "light"
     },
     "output_type": "display_data"
    }
   ],
   "source": [
    "sns.distplot(pipeline.predict_proba(X_test), color='blue')"
   ]
  },
  {
   "cell_type": "markdown",
   "metadata": {},
   "source": [
    "### Print the top 5 district and its respective variables (region, inhabitants and avg_salary)"
   ]
  },
  {
   "cell_type": "code",
   "execution_count": 14,
   "metadata": {},
   "outputs": [
    {
     "name": "stdout",
     "output_type": "stream",
     "text": [
      "[\"Hl.m. Praha\", \"Prague\", \"1204953\", \"12541\"],\n",
      "[\"Karvina\", \"north Moravia\", \"285387\", \"10177\"],\n",
      "[\"Brno - mesto\", \"south Moravia\", \"387570\", \"9897\"],\n",
      "[\"Ostrava - mesto\", \"north Moravia\", \"323870\", \"10673\"],\n",
      "[\"Zlin\", \"south Moravia\", \"197099\", \"9624\"],\n"
     ]
    }
   ],
   "source": [
    "df_group = df.groupby(['district_name', 'district_region', 'district_inhabitants', 'district_avg_salary'])['loan_id'].count()\n",
    "df_group = df_group.reset_index()\n",
    "df_group.sort_values(by=['loan_id'], inplace=True, ascending=False)\n",
    "df_group\n",
    "\n",
    "for index, row in df_group.head(5).iterrows():\n",
    "    print(f'[\"{row[\"district_name\"]}\", \"{row[\"district_region\"]}\", \"{row[\"district_inhabitants\"]}\", \"{row[\"district_avg_salary\"]}\"],')"
   ]
  },
  {
   "cell_type": "code",
   "execution_count": null,
   "metadata": {},
   "outputs": [],
   "source": []
  }
 ],
 "metadata": {
  "kernelspec": {
   "display_name": "Python 3",
   "language": "python",
   "name": "python3"
  },
  "language_info": {
   "codemirror_mode": {
    "name": "ipython",
    "version": 3
   },
   "file_extension": ".py",
   "mimetype": "text/x-python",
   "name": "python",
   "nbconvert_exporter": "python",
   "pygments_lexer": "ipython3",
   "version": "3.8.8"
  }
 },
 "nbformat": 4,
 "nbformat_minor": 4
}
